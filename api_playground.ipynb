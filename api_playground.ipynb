{
 "cells": [
  {
   "attachments": {},
   "cell_type": "markdown",
   "metadata": {},
   "source": [
    "# Getting the list of movies with actors"
   ]
  },
  {
   "cell_type": "code",
   "execution_count": 21,
   "metadata": {},
   "outputs": [
    {
     "ename": "KeyError",
     "evalue": "'cast'",
     "output_type": "error",
     "traceback": [
      "\u001b[1;31m---------------------------------------------------------------------------\u001b[0m",
      "\u001b[1;31mKeyError\u001b[0m                                  Traceback (most recent call last)",
      "\u001b[1;32m<ipython-input-21-67cfa9ed86a7>\u001b[0m in \u001b[0;36m<module>\u001b[1;34m\u001b[0m\n\u001b[0;32m     38\u001b[0m \u001b[1;33m\u001b[0m\u001b[0m\n\u001b[0;32m     39\u001b[0m \u001b[1;31m# Get top American movies\u001b[0m\u001b[1;33m\u001b[0m\u001b[1;33m\u001b[0m\u001b[1;33m\u001b[0m\u001b[0m\n\u001b[1;32m---> 40\u001b[1;33m \u001b[0mmovies\u001b[0m \u001b[1;33m=\u001b[0m \u001b[0mget_top_movies\u001b[0m\u001b[1;33m(\u001b[0m\u001b[1;33m)\u001b[0m\u001b[1;33m\u001b[0m\u001b[1;33m\u001b[0m\u001b[0m\n\u001b[0m\u001b[0;32m     41\u001b[0m \u001b[1;33m\u001b[0m\u001b[0m\n\u001b[0;32m     42\u001b[0m \u001b[1;31m# Save actors for each movie into separate JSON files\u001b[0m\u001b[1;33m\u001b[0m\u001b[1;33m\u001b[0m\u001b[1;33m\u001b[0m\u001b[0m\n",
      "\u001b[1;32m<ipython-input-21-67cfa9ed86a7>\u001b[0m in \u001b[0;36mget_top_movies\u001b[1;34m()\u001b[0m\n\u001b[0;32m     18\u001b[0m                 \u001b[1;32mbreak\u001b[0m\u001b[1;33m\u001b[0m\u001b[1;33m\u001b[0m\u001b[0m\n\u001b[0;32m     19\u001b[0m             \u001b[1;32mfor\u001b[0m \u001b[0mmovie\u001b[0m \u001b[1;32min\u001b[0m \u001b[0mpage_movies\u001b[0m\u001b[1;33m:\u001b[0m\u001b[1;33m\u001b[0m\u001b[1;33m\u001b[0m\u001b[0m\n\u001b[1;32m---> 20\u001b[1;33m                 \u001b[1;32mif\u001b[0m \u001b[0mmovie\u001b[0m\u001b[1;33m[\u001b[0m\u001b[1;34m'cast'\u001b[0m\u001b[1;33m]\u001b[0m \u001b[1;33m>\u001b[0m \u001b[1;36m4\u001b[0m\u001b[1;33m:\u001b[0m\u001b[1;33m\u001b[0m\u001b[1;33m\u001b[0m\u001b[0m\n\u001b[0m\u001b[0;32m     21\u001b[0m                     \u001b[0mmovies\u001b[0m \u001b[1;33m+=\u001b[0m \u001b[0mpage_movies\u001b[0m\u001b[1;33m\u001b[0m\u001b[1;33m\u001b[0m\u001b[0m\n\u001b[0;32m     22\u001b[0m             \u001b[0mpage\u001b[0m \u001b[1;33m+=\u001b[0m \u001b[1;36m1\u001b[0m\u001b[1;33m\u001b[0m\u001b[1;33m\u001b[0m\u001b[0m\n",
      "\u001b[1;31mKeyError\u001b[0m: 'cast'"
     ]
    }
   ],
   "source": [
    "import requests\n",
    "import json\n",
    "\n",
    "# Set API key and base URL for TMDB API\n",
    "api_key = '51d8c99884d982fb01247c3fcc8e9c96'\n",
    "base_url = 'https://api.themoviedb.org/3'\n",
    "\n",
    "# Define function to get top American movies\n",
    "def get_top_movies():\n",
    "    movies = []\n",
    "    page = 1\n",
    "    while len(movies) < 365:\n",
    "        url = f\"{base_url}/discover/movie?api_key={api_key}&sort_by=vote_average.desc&with_original_language=en&region=US&page={page}&include_adult=false\"\n",
    "        response = requests.get(url)\n",
    "        if response.status_code == 200:\n",
    "            page_movies = response.json()['results']\n",
    "            if len(page_movies) == 0:\n",
    "                break\n",
    "            for movie in page_movies:\n",
    "                if movie['cast'] > 4:\n",
    "                    movies += page_movies\n",
    "            page += 1\n",
    "        else:\n",
    "            print(f\"Error getting top movies: {response.text}\")\n",
    "            break\n",
    "    return movies\n",
    "\n",
    "# Define function to get first 5 actors for a movie\n",
    "def get_movie_actors(movie_id):\n",
    "    url = f\"{base_url}/movie/{movie_id}/credits?api_key={api_key}&language=en-US\"\n",
    "    response = requests.get(url)\n",
    "    if response.status_code == 200:\n",
    "        actors = response.json()['cast'][:5]\n",
    "        return [actor['name'] for actor in actors]\n",
    "    else:\n",
    "        print(f\"Error getting movie credits for {movie_id}: {response.text}\")\n",
    "        return []\n",
    "\n",
    "# Get top American movies\n",
    "movies = get_top_movies()\n",
    "\n",
    "# Save actors for each movie into separate JSON files\n",
    "for movie in movies:\n",
    "    movie_id = movie['id']\n",
    "    title = movie['title']\n",
    "    year = movie['release_date'][:4]\n",
    "    actors = get_movie_actors(movie_id)\n",
    "    filename = f\"movies/{movie_id}_actors.json\"\n",
    "    with open(filename, 'w') as f:\n",
    "        f.write(json.dumps({\n",
    "            'title': title,\n",
    "            'year': year,\n",
    "            'actors': actors\n",
    "        }, indent=4))\n"
   ]
  },
  {
   "attachments": {},
   "cell_type": "markdown",
   "metadata": {},
   "source": [
    "## Cleanup"
   ]
  },
  {
   "cell_type": "code",
   "execution_count": 18,
   "metadata": {},
   "outputs": [],
   "source": [
    "import os, shutil\n",
    "folder = './movies'\n",
    "for filename in os.listdir(folder):\n",
    "    file_path = os.path.join(folder, filename)\n",
    "    try:\n",
    "        if os.path.isfile(file_path) or os.path.islink(file_path):\n",
    "            os.unlink(file_path)\n",
    "        elif os.path.isdir(file_path):\n",
    "            shutil.rmtree(file_path)\n",
    "    except Exception as e:\n",
    "        print('Failed to delete %s. Reason: %s' % (file_path, e))"
   ]
  }
 ],
 "metadata": {
  "kernelspec": {
   "display_name": "base",
   "language": "python",
   "name": "python3"
  },
  "language_info": {
   "codemirror_mode": {
    "name": "ipython",
    "version": 3
   },
   "file_extension": ".py",
   "mimetype": "text/x-python",
   "name": "python",
   "nbconvert_exporter": "python",
   "pygments_lexer": "ipython3",
   "version": "3.8.8"
  },
  "orig_nbformat": 4
 },
 "nbformat": 4,
 "nbformat_minor": 2
}
